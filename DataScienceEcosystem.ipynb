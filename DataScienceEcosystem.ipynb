{
 "cells": [
  {
   "cell_type": "markdown",
   "id": "ef98fba7-7cb5-43d3-81da-24a7e4a68faa",
   "metadata": {},
   "source": [
    "# Data Science Tools and Ecosystem"
   ]
  },
  {
   "cell_type": "markdown",
   "id": "e7c4afa1-d37f-46e3-afd1-2dad7b850e1e",
   "metadata": {},
   "source": [
    "In this notebook, Data Science Tools and Ecosystem are summarized."
   ]
  },
  {
   "cell_type": "markdown",
   "id": "6932cd51-22ad-4587-a561-2a3bcbe14d88",
   "metadata": {},
   "source": [
    "**Objectives:**\n",
    "- List popular languages for Data Science.\n",
    "- Introduce common libraries in data science.\n",
    "- Share a notebook to GitHub."
   ]
  },
  {
   "cell_type": "markdown",
   "id": "a9888165-5b6f-442c-8495-bdfa89d9566f",
   "metadata": {},
   "source": [
    "Some of the popular languages that Data Scientists use are:\n",
    "1. Python\n",
    "2. SQL\n",
    "3. R"
   ]
  },
  {
   "cell_type": "markdown",
   "id": "e00cbb47-21ea-4bdf-be29-4f41b9bc89f6",
   "metadata": {},
   "source": [
    "Some of the commonly used libraries used by Data Scientists include:\n",
    "1. NumPy\n",
    "2. Pandas\n",
    "3. Matplotlib"
   ]
  },
  {
   "cell_type": "markdown",
   "id": "d1c97d02-c356-473b-b894-391a1c64dc7e",
   "metadata": {},
   "source": [
    "| Data Science Tools |\n",
    "|--------------------|\n",
    "| Jupyter Notebook   |\n",
    "| RStudio            |\n",
    "| Apache Zeppelin    |"
   ]
  },
  {
   "cell_type": "markdown",
   "id": "d5bbc43d-1ce5-4fa9-a471-5ea632d56f96",
   "metadata": {},
   "source": [
    "### Below are a few examples of evaluating arithmetic expressions in Python."
   ]
  },
  {
   "cell_type": "code",
   "execution_count": 1,
   "id": "87dfd486-0af9-4005-9a8a-068dd772acfb",
   "metadata": {},
   "outputs": [
    {
     "data": {
      "text/plain": [
       "17"
      ]
     },
     "execution_count": 1,
     "metadata": {},
     "output_type": "execute_result"
    }
   ],
   "source": [
    "# This a simple arithmetic expression to multipy then add integers.\n",
    "(3*4)+5"
   ]
  },
  {
   "cell_type": "code",
   "execution_count": 2,
   "id": "f4d95112-d538-49a5-8487-d9aa98d00572",
   "metadata": {},
   "outputs": [
    {
     "data": {
      "text/plain": [
       "3.3333333333333335"
      ]
     },
     "execution_count": 2,
     "metadata": {},
     "output_type": "execute_result"
    }
   ],
   "source": [
    "# This will convert 200 minutes to hours by diving by 60.\n",
    "200/60"
   ]
  },
  {
   "cell_type": "markdown",
   "id": "41e23885-c63b-437d-9e34-1a0125b8c755",
   "metadata": {},
   "source": [
    "## Author\n",
    "Yitian XING"
   ]
  }
 ],
 "metadata": {
  "kernelspec": {
   "display_name": "Python 3 (ipykernel)",
   "language": "python",
   "name": "python3"
  },
  "language_info": {
   "codemirror_mode": {
    "name": "ipython",
    "version": 3
   },
   "file_extension": ".py",
   "mimetype": "text/x-python",
   "name": "python",
   "nbconvert_exporter": "python",
   "pygments_lexer": "ipython3",
   "version": "3.12.8"
  }
 },
 "nbformat": 4,
 "nbformat_minor": 5
}
